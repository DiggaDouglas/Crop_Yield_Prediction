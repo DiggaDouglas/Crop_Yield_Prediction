{
 "cells": [
  {
   "cell_type": "markdown",
   "id": "5c566950",
   "metadata": {},
   "source": [
    "# Data Exploration\n",
    "\n",
    "This notebook explores the crop yield dataset, visualizes key features, and provides initial insights."
   ]
  },
  {
   "cell_type": "code",
   "execution_count": 1,
   "id": "9dd2c182",
   "metadata": {},
   "outputs": [
    {
     "ename": "KeyError",
     "evalue": "'Country'",
     "output_type": "error",
     "traceback": [
      "\u001b[31m---------------------------------------------------------------------------\u001b[39m",
      "\u001b[31mKeyError\u001b[39m                                  Traceback (most recent call last)",
      "\u001b[32m~\\AppData\\Local\\Temp\\ipykernel_26580\\130625906.py\u001b[39m in \u001b[36m?\u001b[39m\u001b[34m()\u001b[39m\n\u001b[32m      8\u001b[39m rainfall = pd.read_csv(\u001b[33m'../data/rainfall.csv'\u001b[39m)\n\u001b[32m      9\u001b[39m temp = pd.read_csv(\u001b[33m'../data/temp.csv'\u001b[39m)\n\u001b[32m     10\u001b[39m pesticides = pd.read_csv(\u001b[33m'../data/pesticides.csv'\u001b[39m)\n\u001b[32m     11\u001b[39m \n\u001b[32m---> \u001b[39m\u001b[32m12\u001b[39m df = yield_df.merge(rainfall, on=[\u001b[33m'Year'\u001b[39m, \u001b[33m'Country'\u001b[39m])\n\u001b[32m     13\u001b[39m df = df.merge(temp, on=[\u001b[33m'Year'\u001b[39m, \u001b[33m'Country'\u001b[39m])\n\u001b[32m     14\u001b[39m df = df.merge(pesticides, on=[\u001b[33m'Year'\u001b[39m, \u001b[33m'Country'\u001b[39m])\n",
      "\u001b[32mc:\\Users\\emman\\OneDrive\\Desktop\\AI,ML projects\\crop_yield_prediction\\venv\\Lib\\site-packages\\pandas\\core\\frame.py\u001b[39m in \u001b[36m?\u001b[39m\u001b[34m(self, right, how, on, left_on, right_on, left_index, right_index, sort, suffixes, copy, indicator, validate)\u001b[39m\n\u001b[32m  10835\u001b[39m         validate: MergeValidate | \u001b[38;5;28;01mNone\u001b[39;00m = \u001b[38;5;28;01mNone\u001b[39;00m,\n\u001b[32m  10836\u001b[39m     ) -> DataFrame:\n\u001b[32m  10837\u001b[39m         \u001b[38;5;28;01mfrom\u001b[39;00m pandas.core.reshape.merge \u001b[38;5;28;01mimport\u001b[39;00m merge\n\u001b[32m  10838\u001b[39m \n\u001b[32m> \u001b[39m\u001b[32m10839\u001b[39m         return merge(\n\u001b[32m  10840\u001b[39m             self,\n\u001b[32m  10841\u001b[39m             right,\n\u001b[32m  10842\u001b[39m             how=how,\n",
      "\u001b[32mc:\\Users\\emman\\OneDrive\\Desktop\\AI,ML projects\\crop_yield_prediction\\venv\\Lib\\site-packages\\pandas\\core\\reshape\\merge.py\u001b[39m in \u001b[36m?\u001b[39m\u001b[34m(left, right, how, on, left_on, right_on, left_index, right_index, sort, suffixes, copy, indicator, validate)\u001b[39m\n\u001b[32m    166\u001b[39m             validate=validate,\n\u001b[32m    167\u001b[39m             copy=copy,\n\u001b[32m    168\u001b[39m         )\n\u001b[32m    169\u001b[39m     \u001b[38;5;28;01melse\u001b[39;00m:\n\u001b[32m--> \u001b[39m\u001b[32m170\u001b[39m         op = _MergeOperation(\n\u001b[32m    171\u001b[39m             left_df,\n\u001b[32m    172\u001b[39m             right_df,\n\u001b[32m    173\u001b[39m             how=how,\n",
      "\u001b[32mc:\\Users\\emman\\OneDrive\\Desktop\\AI,ML projects\\crop_yield_prediction\\venv\\Lib\\site-packages\\pandas\\core\\reshape\\merge.py\u001b[39m in \u001b[36m?\u001b[39m\u001b[34m(self, left, right, how, on, left_on, right_on, left_index, right_index, sort, suffixes, indicator, validate)\u001b[39m\n\u001b[32m    790\u001b[39m             self.right_join_keys,\n\u001b[32m    791\u001b[39m             self.join_names,\n\u001b[32m    792\u001b[39m             left_drop,\n\u001b[32m    793\u001b[39m             right_drop,\n\u001b[32m--> \u001b[39m\u001b[32m794\u001b[39m         ) = self._get_merge_keys()\n\u001b[32m    795\u001b[39m \n\u001b[32m    796\u001b[39m         \u001b[38;5;28;01mif\u001b[39;00m left_drop:\n\u001b[32m    797\u001b[39m             self.left = self.left._drop_labels_or_levels(left_drop)\n",
      "\u001b[32mc:\\Users\\emman\\OneDrive\\Desktop\\AI,ML projects\\crop_yield_prediction\\venv\\Lib\\site-packages\\pandas\\core\\reshape\\merge.py\u001b[39m in \u001b[36m?\u001b[39m\u001b[34m(self)\u001b[39m\n\u001b[32m   1294\u001b[39m                         \u001b[38;5;66;03m# Then we're either Hashable or a wrong-length arraylike,\u001b[39;00m\n\u001b[32m   1295\u001b[39m                         \u001b[38;5;66;03m#  the latter of which will raise\u001b[39;00m\n\u001b[32m   1296\u001b[39m                         rk = cast(Hashable, rk)\n\u001b[32m   1297\u001b[39m                         \u001b[38;5;28;01mif\u001b[39;00m rk \u001b[38;5;28;01mis\u001b[39;00m \u001b[38;5;28;01mnot\u001b[39;00m \u001b[38;5;28;01mNone\u001b[39;00m:\n\u001b[32m-> \u001b[39m\u001b[32m1298\u001b[39m                             right_keys.append(right._get_label_or_level_values(rk))\n\u001b[32m   1299\u001b[39m                         \u001b[38;5;28;01melse\u001b[39;00m:\n\u001b[32m   1300\u001b[39m                             \u001b[38;5;66;03m# work-around for merge_asof(right_index=True)\u001b[39;00m\n\u001b[32m   1301\u001b[39m                             right_keys.append(right.index._values)\n",
      "\u001b[32mc:\\Users\\emman\\OneDrive\\Desktop\\AI,ML projects\\crop_yield_prediction\\venv\\Lib\\site-packages\\pandas\\core\\generic.py\u001b[39m in \u001b[36m?\u001b[39m\u001b[34m(self, key, axis)\u001b[39m\n\u001b[32m   1907\u001b[39m             values = self.xs(key, axis=other_axes[\u001b[32m0\u001b[39m])._values\n\u001b[32m   1908\u001b[39m         \u001b[38;5;28;01melif\u001b[39;00m self._is_level_reference(key, axis=axis):\n\u001b[32m   1909\u001b[39m             values = self.axes[axis].get_level_values(key)._values\n\u001b[32m   1910\u001b[39m         \u001b[38;5;28;01melse\u001b[39;00m:\n\u001b[32m-> \u001b[39m\u001b[32m1911\u001b[39m             \u001b[38;5;28;01mraise\u001b[39;00m KeyError(key)\n\u001b[32m   1912\u001b[39m \n\u001b[32m   1913\u001b[39m         \u001b[38;5;66;03m# Check for duplicates\u001b[39;00m\n\u001b[32m   1914\u001b[39m         \u001b[38;5;28;01mif\u001b[39;00m values.ndim > \u001b[32m1\u001b[39m:\n",
      "\u001b[31mKeyError\u001b[39m: 'Country'"
     ]
    }
   ],
   "source": [
    "# Import required libraries\n",
    "import pandas as pd\n",
    "import numpy as np\n",
    "import matplotlib.pyplot as plt\n",
    "\n",
    "# Load datasets before merging\n",
    "yield_df = pd.read_csv('../data/yield.csv')\n",
    "rainfall = pd.read_csv('../data/rainfall.csv')\n",
    "temp = pd.read_csv('../data/temp.csv')\n",
    "pesticides = pd.read_csv('../data/pesticides.csv')\n",
    "\n",
    "df = yield_df.merge(rainfall, on=['Year', 'Country'])\n",
    "df = df.merge(temp, on=['Year', 'Country'])\n",
    "df = df.merge(pesticides, on=['Year', 'Country'])"
   ]
  },
  {
   "cell_type": "code",
   "execution_count": 2,
   "id": "dceb39e6",
   "metadata": {},
   "outputs": [
    {
     "name": "stdout",
     "output_type": "stream",
     "text": [
      "\n",
      "yield.csv columns:\n",
      "['Domain Code', 'Domain', 'Area Code', 'Area', 'Element Code', 'Element', 'Item Code', 'Item', 'Year Code', 'Year', 'Unit', 'Value']\n",
      "\n",
      "rainfall.csv columns:\n",
      "[' Area', 'Year', 'average_rain_fall_mm_per_year']\n",
      "\n",
      "temp.csv columns:\n",
      "['year', 'country', 'avg_temp']\n",
      "\n",
      "pesticides.csv columns:\n",
      "['Domain', 'Area', 'Element', 'Item', 'Year', 'Unit', 'Value']\n"
     ]
    }
   ],
   "source": [
    "import pandas as pd\n",
    "\n",
    "files = ['yield.csv', 'rainfall.csv', 'temp.csv', 'pesticides.csv']\n",
    "\n",
    "for file in files:\n",
    "    df = pd.read_csv(f'../data/{file}')\n",
    "    print(f\"\\n{file} columns:\")\n",
    "    print(df.columns.tolist())\n"
   ]
  },
  {
   "cell_type": "code",
   "execution_count": 3,
   "id": "effbdace",
   "metadata": {},
   "outputs": [],
   "source": [
    "df.rename(columns={'Area': 'Country', 'Entity': 'Country'}, inplace=True)\n",
    "df.rename(columns={'year': 'Year'}, inplace=True)\n"
   ]
  },
  {
   "cell_type": "code",
   "execution_count": 5,
   "id": "9f5d92ce",
   "metadata": {},
   "outputs": [
    {
     "name": "stdout",
     "output_type": "stream",
     "text": [
      "\n",
      "yield.csv columns: ['Domain Code', 'Domain', 'Area Code', 'Area', 'Element Code', 'Element', 'Item Code', 'Item', 'Year Code', 'Year', 'Unit', 'Value']\n",
      "\n",
      "rainfall.csv columns: [' Area', 'Year', 'average_rain_fall_mm_per_year']\n",
      "\n",
      "temp.csv columns: ['year', 'country', 'avg_temp']\n",
      "\n",
      "pesticides.csv columns: ['Domain', 'Area', 'Element', 'Item', 'Year', 'Unit', 'Value']\n"
     ]
    }
   ],
   "source": [
    "import pandas as pd\n",
    "\n",
    "files = ['yield.csv', 'rainfall.csv', 'temp.csv', 'pesticides.csv']\n",
    "\n",
    "for file in files:\n",
    "    df = pd.read_csv(f'../data/{file}')\n",
    "    print(f\"\\n{file} columns: {list(df.columns)}\")\n"
   ]
  },
  {
   "cell_type": "code",
   "execution_count": 6,
   "id": "fda67645",
   "metadata": {},
   "outputs": [],
   "source": [
    "import pandas as pd\n",
    "\n",
    "# Load datasets\n",
    "yield_df = pd.read_csv('../data/yield.csv')\n",
    "rainfall = pd.read_csv('../data/rainfall.csv')\n",
    "temp = pd.read_csv('../data/temp.csv')\n",
    "pesticides = pd.read_csv('../data/pesticides.csv')\n",
    "\n",
    "# Remove leading/trailing spaces in all column names\n",
    "yield_df.columns = yield_df.columns.str.strip()\n",
    "rainfall.columns = rainfall.columns.str.strip()\n",
    "temp.columns = temp.columns.str.strip()\n",
    "pesticides.columns = pesticides.columns.str.strip()\n",
    "\n",
    "# Rename columns so they match\n",
    "yield_df.rename(columns={'Area': 'Country'}, inplace=True)\n",
    "rainfall.rename(columns={'Area': 'Country'}, inplace=True)\n",
    "temp.rename(columns={'year': 'Year', 'country': 'Country'}, inplace=True)\n"
   ]
  },
  {
   "cell_type": "code",
   "execution_count": 8,
   "id": "4bcc7de1",
   "metadata": {},
   "outputs": [
    {
     "name": "stdout",
     "output_type": "stream",
     "text": [
      "Merged dataset shape: (28248, 6)\n",
      "   Year  Country  Yield average_rain_fall_mm_per_year  avg_temp  Pesticides\n",
      "0  1990  Albania  36613                          1485     16.37       121.0\n",
      "1  1991  Albania  29068                          1485     15.36       121.0\n",
      "2  1992  Albania  24876                          1485     16.06       121.0\n",
      "3  1993  Albania  24185                          1485     16.05       121.0\n",
      "4  1994  Albania  25848                          1485     16.96       201.0\n"
     ]
    }
   ],
   "source": [
    "import pandas as pd\n",
    "\n",
    "# Load datasets\n",
    "yield_df = pd.read_csv('../data/yield.csv')\n",
    "rainfall = pd.read_csv('../data/rainfall.csv')\n",
    "temp = pd.read_csv('../data/temp.csv')\n",
    "pesticides = pd.read_csv('../data/pesticides.csv')\n",
    "\n",
    "# Clean column names\n",
    "yield_df = yield_df.rename(columns={'Area': 'Country'})[['Year', 'Country', 'Value']].rename(columns={'Value': 'Yield'})\n",
    "\n",
    "rainfall = rainfall.rename(columns=lambda x: x.strip())  # remove leading/trailing spaces\n",
    "rainfall = rainfall.rename(columns={'Area': 'Country'})[['Year', 'Country', 'average_rain_fall_mm_per_year']]\n",
    "\n",
    "temp = temp.rename(columns={'year': 'Year', 'country': 'Country'})[['Year', 'Country', 'avg_temp']]\n",
    "\n",
    "pesticides = pesticides.rename(columns={'Area': 'Country'})[['Year', 'Country', 'Value']].rename(columns={'Value': 'Pesticides'})\n",
    "\n",
    "# Merge datasets\n",
    "df = yield_df.merge(rainfall, on=['Year', 'Country'])\n",
    "df = df.merge(temp, on=['Year', 'Country'])\n",
    "df = df.merge(pesticides, on=['Year', 'Country'])\n",
    "\n",
    "# Save merged dataset\n",
    "df.to_csv('../data/crop_data.csv', index=False)\n",
    "print(\"Merged dataset shape:\", df.shape)\n",
    "print(df.head())\n"
   ]
  },
  {
   "cell_type": "code",
   "execution_count": 9,
   "id": "94649314",
   "metadata": {},
   "outputs": [
    {
     "name": "stdout",
     "output_type": "stream",
     "text": [
      "✅ Data cleaned. Shape: (25925, 6)\n",
      "   Year  Country  Yield  Rainfall_mm_per_year  Avg_Temp_C  Pesticides_tonnes\n",
      "0  1990  Albania  36613                1485.0       16.37              121.0\n",
      "1  1991  Albania  29068                1485.0       15.36              121.0\n",
      "2  1992  Albania  24876                1485.0       16.06              121.0\n",
      "3  1993  Albania  24185                1485.0       16.05              121.0\n",
      "4  1994  Albania  25848                1485.0       16.96              201.0\n",
      "Year                    0\n",
      "Country                 0\n",
      "Yield                   0\n",
      "Rainfall_mm_per_year    0\n",
      "Avg_Temp_C              0\n",
      "Pesticides_tonnes       0\n",
      "dtype: int64\n"
     ]
    }
   ],
   "source": [
    "\n",
    "def clean_crop_data(df):\n",
    "    \"\"\"\n",
    "    Cleans the merged crop dataset by:\n",
    "    - Renaming columns for consistency\n",
    "    - Converting numeric columns to floats\n",
    "    - Filling missing numeric values with their column mean\n",
    "    - Dropping duplicates\n",
    "    \"\"\"\n",
    "    # Rename for clarity\n",
    "    df = df.rename(columns={\n",
    "        'average_rain_fall_mm_per_year': 'Rainfall_mm_per_year',\n",
    "        'avg_temp': 'Avg_Temp_C',\n",
    "        'Yield': 'Yield',\n",
    "        'Pesticides': 'Pesticides_tonnes'\n",
    "    })\n",
    "    \n",
    "    # Ensure numeric columns are floats\n",
    "    numeric_cols = ['Rainfall_mm_per_year', 'Avg_Temp_C', 'Yield', 'Pesticides_tonnes']\n",
    "    for col in numeric_cols:\n",
    "        df[col] = pd.to_numeric(df[col], errors='coerce')\n",
    "    \n",
    "    # Fill missing numeric values with mean\n",
    "    for col in numeric_cols:\n",
    "        df[col] = df[col].fillna(df[col].mean())\n",
    "    \n",
    "    # Drop duplicates\n",
    "    df = df.drop_duplicates()\n",
    "    \n",
    "    # Reset index\n",
    "    df = df.reset_index(drop=True)\n",
    "    \n",
    "    return df\n",
    "\n",
    "# --- Use the function ---\n",
    "df = clean_crop_data(df)\n",
    "\n",
    "# Save cleaned data\n",
    "df.to_csv('../data/crop_data_cleaned.csv', index=False)\n",
    "\n",
    "print(\"✅ Data cleaned. Shape:\", df.shape)\n",
    "print(df.head())\n",
    "print(df.isnull().sum())\n"
   ]
  },
  {
   "cell_type": "markdown",
   "id": "ee3a8183",
   "metadata": {},
   "source": [
    "## Load the Dataset\n",
    "\n",
    "Replace 'your_data.csv' with the actual data file name."
   ]
  },
  {
   "cell_type": "code",
   "execution_count": null,
   "id": "4419b69a",
   "metadata": {},
   "outputs": [],
   "source": [
    "# Load data\n",
    "# df = pd.read_csv('../data/your_data.csv')\n",
    "# df.head()"
   ]
  }
 ],
 "metadata": {
  "kernelspec": {
   "display_name": "venv",
   "language": "python",
   "name": "python3"
  },
  "language_info": {
   "codemirror_mode": {
    "name": "ipython",
    "version": 3
   },
   "file_extension": ".py",
   "mimetype": "text/x-python",
   "name": "python",
   "nbconvert_exporter": "python",
   "pygments_lexer": "ipython3",
   "version": "3.13.6"
  }
 },
 "nbformat": 4,
 "nbformat_minor": 5
}
